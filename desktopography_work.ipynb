{
 "cells": [
  {
   "cell_type": "code",
   "execution_count": 1,
   "source": [
    "#settings for notebook\r\n",
    "from IPython.core.interactiveshell import InteractiveShell\r\n",
    "InteractiveShell.ast_node_interactivity = \"all\"\r\n",
    "#show python version\r\n",
    "import platform\r\n",
    "platform.python_version()\r\n",
    "\r\n"
   ],
   "outputs": [
    {
     "output_type": "execute_result",
     "data": {
      "text/plain": [
       "'3.8.5'"
      ]
     },
     "metadata": {},
     "execution_count": 1
    }
   ],
   "metadata": {}
  },
  {
   "cell_type": "code",
   "execution_count": 2,
   "source": [
    "import scrapy;\r\n",
    "import bs4;\r\n",
    "import scrapydo\r\n",
    "scrapydo.setup()"
   ],
   "outputs": [],
   "metadata": {}
  },
  {
   "cell_type": "code",
   "execution_count": 3,
   "source": [
    "import scrapy\r\n",
    "from scrapy.crawler import CrawlerProcess"
   ],
   "outputs": [],
   "metadata": {}
  },
  {
   "cell_type": "markdown",
   "source": [
    "Setup a pipeline"
   ],
   "metadata": {}
  },
  {
   "cell_type": "code",
   "execution_count": 20,
   "source": [
    "import json\r\n",
    "import requests\r\n",
    "\r\n",
    "class JsonWriterPipeline(object):\r\n",
    "\r\n",
    "    def open_spider(self, spider):\r\n",
    "        self.file = open('fileoutput.txt', 'w')\r\n",
    "\r\n",
    "    def close_spider(self, spider):\r\n",
    "        self.file.close()\r\n",
    "\r\n",
    "    def process_item(self, item, spider): \r\n",
    "        line = json.dumps(dict(item)) + \"\\n\"\r\n",
    "        image_url = item['download'][0]\r\n",
    "        print(f'Downloading: {image_url}')\r\n",
    "        image_req = requests.get(image_url)\r\n",
    "        filename = os.path.basename(image_url)\r\n",
    "        print(f'saving to: {filename}')\r\n",
    "        image = open(f'./backgrounds/{filename}', \"wb\")\r\n",
    "        image.write(image_req.content)\r\n",
    "        image.close()\r\n",
    "        self.file.write(line)\r\n",
    "        return item"
   ],
   "outputs": [],
   "metadata": {}
  },
  {
   "cell_type": "code",
   "execution_count": 11,
   "source": [
    "import logging\r\n",
    "\r\n",
    "class wallpaperSpider(scrapy.Spider):\r\n",
    "\r\n",
    "    name = 'desktopography-2020'\r\n",
    "    start_urls = ['https://desktopography.net/exhibition-2020/']\r\n",
    "    custom_settings = {\r\n",
    "        'LOG_LEVEL': logging.WARNING,\r\n",
    "        'ITEM_PIPELINES': {'__main__.JsonWriterPipeline': 1}, # Used for pipeline 1\r\n",
    "       \r\n",
    "    }\r\n",
    "\r\n",
    "    def parse(self, response):\r\n",
    "        # yield {\r\n",
    "        #     'title': response.css('title').extract(),\r\n",
    "        #     'url': response.url,\r\n",
    "        #     #'entries': response.css('div.portfolio-item').extract(),\r\n",
    "        # }\r\n",
    "        for entry in response.css('div.portfolio-item a.overlay-background::attr(href)'):\r\n",
    "            yield response.follow(url=entry.get(), callback=self.parse_downloads)\r\n",
    "    \r\n",
    "    def parse_downloads(self, response):\r\n",
    "        yield {\r\n",
    "            'download': response.xpath(\"//a[text()=\\'3840x2160\\']/@href\").extract()\r\n",
    "        }\r\n"
   ],
   "outputs": [],
   "metadata": {}
  },
  {
   "cell_type": "code",
   "execution_count": 21,
   "source": [
    "\r\n",
    "#Run the crawler\r\n",
    "scrapydo.run_spider(wallpaperSpider, settings={\r\n",
    "    'USER_AGENT': 'Mozilla/4.0 (compatible; MSIE 7.0; Windows NT 5.1)'\r\n",
    "})"
   ],
   "outputs": [
    {
     "output_type": "stream",
     "name": "stdout",
     "text": [
      "Downloading: https://desktopography.net/wp-content/uploads/bfi_thumb/Desk_2020_3-3bhqrglffx5kkwsqmewg74.jpg\n",
      "saving to: Desk_2020_3-3bhqrglffx5kkwsqmewg74.jpg\n",
      "Downloading: https://desktopography.net/wp-content/uploads/bfi_thumb/Desk_UndertheSea-3bhqtc705bwvr0drugd7nk.jpg\n",
      "saving to: Desk_UndertheSea-3bhqtc705bwvr0drugd7nk.jpg\n",
      "Downloading: https://desktopography.net/wp-content/uploads/bfi_thumb/wallpaper-4-Bloom-3bhqq37qqxokdug48z8rgg.jpg\n",
      "saving to: wallpaper-4-Bloom-3bhqq37qqxokdug48z8rgg.jpg\n",
      "Downloading: https://desktopography.net/wp-content/uploads/bfi_thumb/color_paradise-desktopography-2020-by-angelicafx-96DPI-3bhqrq57e5nvslizw8ya68.png\n",
      "saving to: color_paradise-desktopography-2020-by-angelicafx-96DPI-3bhqrq57e5nvslizw8ya68.png\n",
      "Downloading: https://desktopography.net/wp-content/uploads/bfi_thumb/ancientgreece-3bhqbk9gl7atnxrn5nrrpc.jpg\n",
      "saving to: ancientgreece-3bhqbk9gl7atnxrn5nrrpc.jpg\n",
      "Downloading: https://desktopography.net/wp-content/uploads/bfi_thumb/umer-tahir-anew-3bhqoenh5wrsugnwlg4pvk.jpg\n",
      "saving to: umer-tahir-anew-3bhqoenh5wrsugnwlg4pvk.jpg\n",
      "Downloading: https://desktopography.net/wp-content/uploads/bfi_thumb/SEARCHING-FOR-THE-COLOR-TREE-2020-3bhqsen9h7llq23006054w.png\n",
      "saving to: SEARCHING-FOR-THE-COLOR-TREE-2020-3bhqsen9h7llq23006054w.png\n",
      "Downloading: https://desktopography.net/wp-content/uploads/bfi_thumb/wallpaper-1-Rise-3bhqpbtnb5hij9q2a4xtkw.jpg\n",
      "saving to: wallpaper-1-Rise-3bhqpbtnb5hij9q2a4xtkw.jpg\n",
      "Downloading: https://desktopography.net/wp-content/uploads/bfi_thumb/Hunger-Conflict-by-Youssef-Abdelrahman-1-3bhqyh5es0i2mf52tkie4g.jpg\n",
      "saving to: Hunger-Conflict-by-Youssef-Abdelrahman-1-3bhqyh5es0i2mf52tkie4g.jpg\n",
      "Downloading: https://desktopography.net/wp-content/uploads/bfi_thumb/desktopography_Phil_Chambre-3bhqyx8ehgq6cmoo4g6bk0.jpg\n",
      "saving to: desktopography_Phil_Chambre-3bhqyx8ehgq6cmoo4g6bk0.jpg\n",
      "Downloading: https://desktopography.net/wp-content/uploads/bfi_thumb/Reflections-Desktopography-2020-4K-with-Logos-3bii4zfdmzl9j0clraggzk.jpg\n",
      "saving to: Reflections-Desktopography-2020-4K-with-Logos-3bii4zfdmzl9j0clraggzk.jpg\n",
      "Downloading: https://desktopography.net/wp-content/uploads/bfi_thumb/desktopography_awakening_2020_stellart_300dpi_4k-3bjl19jf4n1a9yib7uwfeo.jpg\n"
     ]
    }
   ],
   "metadata": {}
  }
 ],
 "metadata": {
  "kernelspec": {
   "name": "python3",
   "display_name": "Python 3.8.5 64-bit"
  },
  "language_info": {
   "codemirror_mode": {
    "name": "ipython",
    "version": 3
   },
   "file_extension": ".py",
   "mimetype": "text/x-python",
   "name": "python",
   "nbconvert_exporter": "python",
   "pygments_lexer": "ipython3",
   "version": "3.8.5"
  },
  "metadata": {
   "interpreter": {
    "hash": "2db524e06e9f5f4ffedc911c917cb75e12dbc923643829bf417064a77eb14d37"
   }
  },
  "orig_nbformat": 2,
  "interpreter": {
   "hash": "2db524e06e9f5f4ffedc911c917cb75e12dbc923643829bf417064a77eb14d37"
  }
 },
 "nbformat": 4,
 "nbformat_minor": 2
}